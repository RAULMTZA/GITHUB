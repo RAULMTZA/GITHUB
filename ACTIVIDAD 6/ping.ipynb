{
 "cells": [
  {
   "cell_type": "code",
   "execution_count": null,
   "metadata": {},
   "outputs": [],
   "source": [
    "!pip install matplotlib mysql-connector-python openpyxl"
   ]
  },
  {
   "cell_type": "code",
   "execution_count": null,
   "metadata": {},
   "outputs": [],
   "source": [
    "import subprocess\n",
    "import re\n",
    "import mysql.connector\n",
    "import pandas as pd\n",
    "import matplotlib.pyplot as plt\n",
    "from datetime import datetime"
   ]
  },
  {
   "cell_type": "code",
   "execution_count": null,
   "metadata": {},
   "outputs": [],
   "source": [
    "# Funcion para medir el ping a través de un subproceso\n",
    "\n",
    "def medir_ping(host,count):\n",
    "    ping_output = subprocess.run(\n",
    "        [\"ping\", \"-c\",str(count), host],capture_output=True,text=True\n",
    "    )\n",
    "\n",
    "    ping_times = re.findall(r\"time=(\\d+\\.\\d+)\",ping_output.stdout)\n",
    "    \n",
    "    return list(map(float,ping_times))\n",
    "\n",
    "\n",
    "#tiempo_ping = medir_ping(host_test,10)\n",
    "#[22.401, 18.037, 17.588, 36.65, 17.619, 20.051, 17.688, 20.033, 17.613, 22.042]"
   ]
  },
  {
   "cell_type": "code",
   "execution_count": null,
   "metadata": {},
   "outputs": [],
   "source": [
    "# Función para graficar el tiempo\n",
    "\n",
    "def graficar_ping(ping_times):\n",
    "    plt.plot(ping_times)\n",
    "    plt.title(\"Ping a Google\")\n",
    "    plt.xlabel(\"Número de ping\")\n",
    "    plt.ylabel(\"Tiempo de respuesta (ms)\")\n",
    "    plt.show()"
   ]
  },
  {
   "cell_type": "code",
   "execution_count": null,
   "metadata": {},
   "outputs": [],
   "source": [
    "# Función para insertar datos en la base de datos mysql\n",
    "def insertar_en_mysql(host, ping_times):\n",
    "    conn = mysql.connector.connect(\n",
    "        host=\"localhost\", \n",
    "        user=\"root\", \n",
    "        password=\"root\", \n",
    "        database=\"diccionario_db\"\n",
    "    )\n",
    "\n",
    "    cursor = conn.cursor()\n",
    "\n",
    "    cursor.execute(\"CREATE TABLE IF NOT EXISTS ping_data (id_ping_data INT AUTO_INCREMENT PRIMARY KEY, timestamp DATETIME, host VARCHAR(255), ping_time FLOAT)\")\n",
    "\n",
    "    # Insertar datos en la base de datos\n",
    "\n",
    "    for ping_time in ping_times:\n",
    "        timestamp = datetime.now().strftime(\"%Y-%m-%d %H:%M:%S\")\n",
    "        insert_query = (\"INSERT INTO ping_data (timestamp,host,ping_time) VALUES (%s,%s,%s)\")\n",
    "\n",
    "        cursor.execute(insert_query,(timestamp,host,ping_time))\n",
    "\n",
    "    conn.commit()\n",
    "    cursor.close()\n",
    "    conn.close()"
   ]
  },
  {
   "cell_type": "code",
   "execution_count": null,
   "metadata": {},
   "outputs": [],
   "source": [
    "# Función para crear el excel\n",
    "\n",
    "def crear_excel(ping_times):\n",
    "    df = pd.DataFrame({\"Ping\":ping_times})\n",
    "    df.to_excel(\"ping_data.xlsx\", index=False)"
   ]
  },
  {
   "cell_type": "code",
   "execution_count": null,
   "metadata": {},
   "outputs": [],
   "source": [
    "# Configuración\n",
    "host = \"google.com\"\n",
    "ping_count = 10"
   ]
  },
  {
   "cell_type": "code",
   "execution_count": null,
   "metadata": {},
   "outputs": [],
   "source": [
    "# Funciones ejecutadas\n",
    "\n",
    "#medir ping\n",
    "ping_times = medir_ping(host,ping_count)\n",
    "\n",
    "# graficar ping\n",
    "graficar_ping(ping_times)\n",
    "\n",
    "# insertar a la base de datos\n",
    "insertar_en_mysql(host,ping_times)\n",
    "\n",
    "# crear EXCEl\n",
    "\n",
    "crear_excel(ping_times)"
   ]
  }
 ],
 "metadata": {
  "language_info": {
   "name": "python"
  }
 },
 "nbformat": 4,
 "nbformat_minor": 2
}
